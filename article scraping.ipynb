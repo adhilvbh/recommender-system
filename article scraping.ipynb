{
 "cells": [
  {
   "cell_type": "code",
   "execution_count": 252,
   "metadata": {},
   "outputs": [],
   "source": [
    "\n",
    "import newspaper\n",
    "import pandas as pd\n",
    "ibt = newspaper.build(\"https://www.ibtimes.com/national\")\n",
    "dte = []\n",
    "contenttitle_list =[]\n",
    "contentdesc_list=[]\n",
    "newsurl=[]\n",
    "links = []\n",
    "for article in ibt.articles:\n",
    "    links.append(article.url)\n",
    "    \n",
    "\n"
   ]
  },
  {
   "cell_type": "code",
   "execution_count": 253,
   "metadata": {},
   "outputs": [
    {
     "name": "stdout",
     "output_type": "stream",
     "text": [
      "8\n"
     ]
    }
   ],
   "source": [
    "print(len(links))"
   ]
  },
  {
   "cell_type": "code",
   "execution_count": 254,
   "metadata": {},
   "outputs": [],
   "source": [
    "\n",
    "for i in range(1,len(links)):\n",
    "    \n",
    "        url = links[i]\n",
    "        content = newspaper.Article(url,language = 'en')\n",
    "        content.download()\n",
    "        content.parse()\n",
    "        contenttitle_list.append(content.title)\n",
    "        contentdesc_list.append(content.text)\n",
    "        dte.append(content.publish_date)\n",
    "        newsurl.append(content.url)\n",
    "    \n",
    "    \n",
    "    \n",
    "dic={\"Title\":contenttitle_list,\"Date\":dte,\"Content\":contentdesc_list,\"url\":newsurl}\n",
    " \n",
    "        \n",
    "        \n",
    "    \n",
    "    \n"
   ]
  },
  {
   "cell_type": "code",
   "execution_count": 255,
   "metadata": {},
   "outputs": [
    {
     "data": {
      "text/html": [
       "<div>\n",
       "<style scoped>\n",
       "    .dataframe tbody tr th:only-of-type {\n",
       "        vertical-align: middle;\n",
       "    }\n",
       "\n",
       "    .dataframe tbody tr th {\n",
       "        vertical-align: top;\n",
       "    }\n",
       "\n",
       "    .dataframe thead th {\n",
       "        text-align: right;\n",
       "    }\n",
       "</style>\n",
       "<table border=\"1\" class=\"dataframe\">\n",
       "  <thead>\n",
       "    <tr style=\"text-align: right;\">\n",
       "      <th></th>\n",
       "      <th>Title</th>\n",
       "      <th>Date</th>\n",
       "      <th>Content</th>\n",
       "      <th>url</th>\n",
       "    </tr>\n",
       "  </thead>\n",
       "  <tbody>\n",
       "    <tr>\n",
       "      <th>0</th>\n",
       "      <td>Waterbomb catastrophe: Did Nostradamus predict...</td>\n",
       "      <td>2020-05-19 11:07:08+05:30</td>\n",
       "      <td>Nostradamus was a French seer who lived in the...</td>\n",
       "      <td>https://www.ibtimes.co.in/waterbomb-catastroph...</td>\n",
       "    </tr>\n",
       "    <tr>\n",
       "      <th>1</th>\n",
       "      <td>Pawnbrokers in Singapore Puzzled With Surge in...</td>\n",
       "      <td>2020-05-21 18:01:51+08:00</td>\n",
       "      <td>People usually loan money from the pawnshops b...</td>\n",
       "      <td>http://www.ibtimes.sg/pawnbrokers-singapore-pu...</td>\n",
       "    </tr>\n",
       "    <tr>\n",
       "      <th>2</th>\n",
       "      <td>US Navy Carrier Roosevelt Back At Sea Amid Sou...</td>\n",
       "      <td>2020-05-21 06:00:32-04:00</td>\n",
       "      <td>KEY POINTS During a scheduled deployment in Ma...</td>\n",
       "      <td>https://www.ibtimes.com/us-navy-carrier-roosev...</td>\n",
       "    </tr>\n",
       "    <tr>\n",
       "      <th>3</th>\n",
       "      <td>COVID-19 Update: Navy Recommends Reinstating O...</td>\n",
       "      <td>2020-04-24 23:04:17-04:00</td>\n",
       "      <td>KEY POINTS Admiral Michael Gilday recommended ...</td>\n",
       "      <td>https://www.ibtimes.com/covid-19-update-navy-r...</td>\n",
       "    </tr>\n",
       "    <tr>\n",
       "      <th>4</th>\n",
       "      <td>The Plague Continues: 13 USS Theodore Roosevel...</td>\n",
       "      <td>2020-05-18 08:24:42-04:00</td>\n",
       "      <td>KEY POINTS 13 sailors aboard the USS Theodore ...</td>\n",
       "      <td>https://www.ibtimes.com/plague-continues-13-us...</td>\n",
       "    </tr>\n",
       "    <tr>\n",
       "      <th>5</th>\n",
       "      <td>US Warns India Of China 'Aggression' At Border</td>\n",
       "      <td>2020-05-20 16:34:38-04:00</td>\n",
       "      <td>The United States on Wednesday accused China o...</td>\n",
       "      <td>https://www.ibtimes.com/us-warns-india-china-a...</td>\n",
       "    </tr>\n",
       "    <tr>\n",
       "      <th>6</th>\n",
       "      <td>China Rebuts Trump Accusation Of Coronavirus '...</td>\n",
       "      <td>2020-05-21 19:22:35+10:00</td>\n",
       "      <td>China offered a low-key rebuttal to United Sta...</td>\n",
       "      <td>http://www.ibtimes.com.au/china-rebuts-trump-a...</td>\n",
       "    </tr>\n",
       "  </tbody>\n",
       "</table>\n",
       "</div>"
      ],
      "text/plain": [
       "                                               Title  \\\n",
       "0  Waterbomb catastrophe: Did Nostradamus predict...   \n",
       "1  Pawnbrokers in Singapore Puzzled With Surge in...   \n",
       "2  US Navy Carrier Roosevelt Back At Sea Amid Sou...   \n",
       "3  COVID-19 Update: Navy Recommends Reinstating O...   \n",
       "4  The Plague Continues: 13 USS Theodore Roosevel...   \n",
       "5     US Warns India Of China 'Aggression' At Border   \n",
       "6  China Rebuts Trump Accusation Of Coronavirus '...   \n",
       "\n",
       "                        Date  \\\n",
       "0  2020-05-19 11:07:08+05:30   \n",
       "1  2020-05-21 18:01:51+08:00   \n",
       "2  2020-05-21 06:00:32-04:00   \n",
       "3  2020-04-24 23:04:17-04:00   \n",
       "4  2020-05-18 08:24:42-04:00   \n",
       "5  2020-05-20 16:34:38-04:00   \n",
       "6  2020-05-21 19:22:35+10:00   \n",
       "\n",
       "                                             Content  \\\n",
       "0  Nostradamus was a French seer who lived in the...   \n",
       "1  People usually loan money from the pawnshops b...   \n",
       "2  KEY POINTS During a scheduled deployment in Ma...   \n",
       "3  KEY POINTS Admiral Michael Gilday recommended ...   \n",
       "4  KEY POINTS 13 sailors aboard the USS Theodore ...   \n",
       "5  The United States on Wednesday accused China o...   \n",
       "6  China offered a low-key rebuttal to United Sta...   \n",
       "\n",
       "                                                 url  \n",
       "0  https://www.ibtimes.co.in/waterbomb-catastroph...  \n",
       "1  http://www.ibtimes.sg/pawnbrokers-singapore-pu...  \n",
       "2  https://www.ibtimes.com/us-navy-carrier-roosev...  \n",
       "3  https://www.ibtimes.com/covid-19-update-navy-r...  \n",
       "4  https://www.ibtimes.com/plague-continues-13-us...  \n",
       "5  https://www.ibtimes.com/us-warns-india-china-a...  \n",
       "6  http://www.ibtimes.com.au/china-rebuts-trump-a...  "
      ]
     },
     "execution_count": 255,
     "metadata": {},
     "output_type": "execute_result"
    }
   ],
   "source": [
    "df = pd.DataFrame(data = dic)\n",
    "df\n"
   ]
  },
  {
   "cell_type": "code",
   "execution_count": null,
   "metadata": {},
   "outputs": [],
   "source": []
  },
  {
   "cell_type": "code",
   "execution_count": 256,
   "metadata": {},
   "outputs": [],
   "source": [
    "\n",
    "df.to_csv(\"newsarticles1.csv\")\n",
    "\n",
    "\n",
    "\n"
   ]
  },
  {
   "cell_type": "code",
   "execution_count": null,
   "metadata": {},
   "outputs": [],
   "source": []
  },
  {
   "cell_type": "code",
   "execution_count": null,
   "metadata": {},
   "outputs": [],
   "source": []
  }
 ],
 "metadata": {
  "kernelspec": {
   "display_name": "Python 3",
   "language": "python",
   "name": "python3"
  },
  "language_info": {
   "codemirror_mode": {
    "name": "ipython",
    "version": 3
   },
   "file_extension": ".py",
   "mimetype": "text/x-python",
   "name": "python",
   "nbconvert_exporter": "python",
   "pygments_lexer": "ipython3",
   "version": "3.7.3"
  }
 },
 "nbformat": 4,
 "nbformat_minor": 4
}
